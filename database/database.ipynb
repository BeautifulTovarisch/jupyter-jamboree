{
 "cells": [
  {
   "cell_type": "code",
   "execution_count": 18,
   "id": "0482f0e8-10e2-48ca-a6a2-1bcde6e2f93b",
   "metadata": {},
   "outputs": [
    {
     "name": "stdout",
     "output_type": "stream",
     "text": [
      "(1, 'john', 'doe', 'jdoe@gmail.com')\n"
     ]
    }
   ],
   "source": [
    "import psycopg\n",
    "\n",
    "conn = psycopg.connect(\n",
    "    host=\"localhost\",\n",
    "    port=\"5432\",\n",
    "    dbname=\"postgres\",\n",
    "    user=\"appuser\",\n",
    "    password=\"iamtheuser\"\n",
    ")\n",
    "\n",
    "try:\n",
    "    record = conn.execute(\"SELECT * FROM data.users;\").fetchone();\n",
    "    print(record)\n",
    "        \n",
    "except Exception as e:\n",
    "    print(e)\n",
    "finally:\n",
    "    conn.close()"
   ]
  },
  {
   "cell_type": "code",
   "execution_count": null,
   "id": "98c6a9e2-1d92-4c5d-a80c-1e8acb13540f",
   "metadata": {},
   "outputs": [],
   "source": []
  },
  {
   "cell_type": "code",
   "execution_count": null,
   "id": "e9cc957f-7a6a-4464-9f4e-3c89628750c6",
   "metadata": {},
   "outputs": [],
   "source": []
  }
 ],
 "metadata": {
  "kernelspec": {
   "display_name": "venv",
   "language": "python",
   "name": "venv"
  },
  "language_info": {
   "codemirror_mode": {
    "name": "ipython",
    "version": 3
   },
   "file_extension": ".py",
   "mimetype": "text/x-python",
   "name": "python",
   "nbconvert_exporter": "python",
   "pygments_lexer": "ipython3",
   "version": "3.12.7"
  }
 },
 "nbformat": 4,
 "nbformat_minor": 5
}
